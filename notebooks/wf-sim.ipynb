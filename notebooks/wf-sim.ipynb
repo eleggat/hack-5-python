{
 "cells": [
  {
   "cell_type": "markdown",
   "id": "75546cba-6a0a-4e50-8778-f3f539343bea",
   "metadata": {},
   "source": [
    "# Wright Fisher Simulation\n",
    "Defining the `init` function"
   ]
  },
  {
   "cell_type": "code",
   "execution_count": 3,
   "id": "61bed11b-9777-4d5d-a760-4afe274fe0a6",
   "metadata": {},
   "outputs": [],
   "source": [
    "def init(N, f):\n",
    "    a = round(f * N)\n",
    "    A = N - a\n",
    "    pop = [0]*A + [1]*a\n",
    "    return pop"
   ]
  },
  {
   "cell_type": "code",
   "execution_count": 4,
   "id": "18e619e5-9ab7-443c-b3be-af3286c8f2f4",
   "metadata": {},
   "outputs": [
    {
     "data": {
      "text/plain": [
       "[0, 0, 0, 0, 0, 0, 0, 0, 0, 0, 0, 0, 0, 0, 0, 1, 1, 1, 1, 1, 1, 1, 1, 1, 1]"
      ]
     },
     "execution_count": 4,
     "metadata": {},
     "output_type": "execute_result"
    }
   ],
   "source": [
    "# testing the init function, N = 25, f = 0.4\n",
    "init(25, 0.4)"
   ]
  },
  {
   "cell_type": "markdown",
   "id": "20cb6a8b-507a-4612-995d-587f0e56c891",
   "metadata": {},
   "source": [
    "Defining the `step` function for one WF generation"
   ]
  },
  {
   "cell_type": "code",
   "execution_count": 5,
   "id": "cddb4712-f02d-4a3d-b782-c06963746942",
   "metadata": {},
   "outputs": [],
   "source": [
    "import random #need random for random.choices()\n",
    "\n",
    "def step(pop):\n",
    "    gen2 = random.choices(pop, k = len(pop))\n",
    "    return(gen2)"
   ]
  },
  {
   "cell_type": "code",
   "execution_count": 6,
   "id": "f6695ff7-6580-4fe0-b7ed-081450c2edcc",
   "metadata": {},
   "outputs": [
    {
     "data": {
      "text/plain": [
       "[0, 1, 0, 0, 0, 1, 0, 1, 1, 0, 0, 1, 1, 1, 1, 0, 0, 1, 0, 0, 1, 0, 0, 1, 0]"
      ]
     },
     "execution_count": 6,
     "metadata": {},
     "output_type": "execute_result"
    }
   ],
   "source": [
    "# testing the step function\n",
    "gen1 = init(25, 0.4)\n",
    "step(gen1)"
   ]
  },
  {
   "cell_type": "markdown",
   "id": "cf4d8cfd-3cd9-4899-9e88-4775bc4c8836",
   "metadata": {},
   "source": [
    "Creating the full `wf` function"
   ]
  },
  {
   "cell_type": "code",
   "execution_count": 7,
   "id": "d6425773-3679-4e41-81fc-a23f4419ee4d",
   "metadata": {},
   "outputs": [],
   "source": [
    "def wf(N, f, ngens, text = True):\n",
    "    pop_n = init(N, f) #making the initial population\n",
    "    freqs = [f] #starting the list of frequencies with the initial freq (gen 0)\n",
    "    for i in range(ngens):\n",
    "        pop_n = step(pop_n) #make the next step\n",
    "        ff = sum(pop_n)/N #frequency of allele a after making the step\n",
    "        freqs.append(ff) #adding to the genrational list of frequencies\n",
    "        if ff == 0:\n",
    "            if text: #will print by default\n",
    "                print(f\"Allele a was lost (freq(a) = 0) at generation {i + 1}\") #message for 0 frequency, add one bc init pop = 0\n",
    "            break\n",
    "        if ff == 1:\n",
    "            if text:\n",
    "                print(f\"Allele a went to fixation (freq(a) = 1) at generation {i + 1}\") #message for 1 frequency\n",
    "            break \n",
    "    else:\n",
    "        if text:\n",
    "            print(f\"generations: {ngens}; freq(a): {ff}\")\n",
    "    return freqs"
   ]
  },
  {
   "cell_type": "code",
   "execution_count": 20,
   "id": "3078edee-5382-4b8c-b341-b6249959a971",
   "metadata": {},
   "outputs": [
    {
     "name": "stdout",
     "output_type": "stream",
     "text": [
      "Allele a went to fixation (freq(a) = 1) at generation 17\n"
     ]
    },
    {
     "data": {
      "text/plain": [
       "[0.9,\n",
       " 0.88,\n",
       " 0.9,\n",
       " 0.9,\n",
       " 0.9,\n",
       " 0.88,\n",
       " 0.92,\n",
       " 0.91,\n",
       " 0.95,\n",
       " 0.97,\n",
       " 0.99,\n",
       " 0.99,\n",
       " 0.99,\n",
       " 0.99,\n",
       " 0.99,\n",
       " 0.99,\n",
       " 0.99,\n",
       " 1.0]"
      ]
     },
     "execution_count": 20,
     "metadata": {},
     "output_type": "execute_result"
    }
   ],
   "source": [
    "# testing the wf function (text parameter only matters for iteration of the function)\n",
    "wf(100, 0.9, 100)"
   ]
  },
  {
   "cell_type": "markdown",
   "id": "e946f65e-a7e7-484b-bf59-193cb5301886",
   "metadata": {},
   "source": [
    "Creating the `iterate_wf` function"
   ]
  },
  {
   "cell_type": "code",
   "execution_count": 8,
   "id": "af664229-4aa0-4d5b-bdbf-35671365d614",
   "metadata": {},
   "outputs": [],
   "source": [
    "def iterate_wf(N, f, ngens, rep):\n",
    "    fix = []\n",
    "    for j in range(rep):\n",
    "        freqs = wf(N, f, ngens, text = False)\n",
    "        if freqs[-1] == 1:\n",
    "            fix.append(1)\n",
    "    prob = sum(fix)/rep\n",
    "    return print(f\"The probability of fixation is {prob}\")"
   ]
  },
  {
   "cell_type": "code",
   "execution_count": 9,
   "id": "05ac0216-9da9-4a91-96a7-9e0f5125aa56",
   "metadata": {},
   "outputs": [
    {
     "name": "stdout",
     "output_type": "stream",
     "text": [
      "The probability of fixation is 0.17\n"
     ]
    }
   ],
   "source": [
    "# testing iterate_wf()\n",
    "iterate_wf(N = 100, f = 0.2, ngens = 1000, rep = 100)"
   ]
  },
  {
   "cell_type": "markdown",
   "id": "3e3d5070-e592-4dc2-be91-2a696de6511e",
   "metadata": {},
   "source": [
    "## Using classes instead"
   ]
  },
  {
   "cell_type": "code",
   "execution_count": 10,
   "id": "a50365fb-e7a0-4087-b398-d36dc06cfa72",
   "metadata": {},
   "outputs": [],
   "source": [
    "class Population:\n",
    "    def __init__(self, N=10, f=0.2):\n",
    "        self.N = N\n",
    "        self.f = f\n",
    "\n",
    "        derived_count = round(N*f)\n",
    "        self.pop = [0] * (N - derived_count) + [1] * derived_count\n",
    "\n",
    "    def __repr__(self):\n",
    "        return f\"Population(N={self.N}, f={self.f})\"\n",
    "\n",
    "    def step(self, ngens=1):\n",
    "        for i in range(ngens):\n",
    "            self.pop = random.choices(self.pop, k=self.N)\n",
    "\n",
    "    def isMonomorphic(self, ngens = 1):\n",
    "        self.step(ngens = ngens)\n",
    "        if sum(self.pop)/self.N == 1:\n",
    "            return print(\"True\")\n",
    "        elif sum(self.pop)/self.N == 0:\n",
    "            return print(\"True\")\n",
    "        elif 0 < sum(self.pop)/self.N < 1:\n",
    "            return print(\"False\")\n",
    "        else:\n",
    "            return print(\"Something funky happened\")"
   ]
  },
  {
   "cell_type": "code",
   "execution_count": 17,
   "id": "5a45971f-3ff2-4862-915b-e8561873cc7e",
   "metadata": {},
   "outputs": [
    {
     "name": "stdout",
     "output_type": "stream",
     "text": [
      "True\n"
     ]
    }
   ],
   "source": [
    "#testing isMonomorphic()\n",
    "p = Population(N = 50, f = 0.2)\n",
    "p.isMonomorphic(ngens = 20)"
   ]
  },
  {
   "cell_type": "markdown",
   "id": "910bb54e-e7bf-42e6-83c6-d9c9ce9cc63f",
   "metadata": {},
   "source": [
    "## Using Numpy"
   ]
  },
  {
   "cell_type": "code",
   "execution_count": 18,
   "id": "be9c8fd9-4e3f-4b7c-a5c5-b1b7cdf9290a",
   "metadata": {},
   "outputs": [],
   "source": [
    "import numpy as np"
   ]
  },
  {
   "cell_type": "code",
   "execution_count": 21,
   "id": "6b9b6e88-a36a-43ca-925d-4fa7b6f6292b",
   "metadata": {},
   "outputs": [],
   "source": [
    "class Population:\n",
    "    def __init__(self, N=10, f=0.2, with_np = False):\n",
    "        self.N = N\n",
    "        self.f = f\n",
    "        self.with_np = with_np\n",
    "\n",
    "        derived_count = round(N*f)\n",
    "        self.pop = [0] * (N - derived_count) + [1] * derived_count\n",
    "\n",
    "        if with_np:\n",
    "            self.pop = np.array(self.pop) #convert to a numpy array if with_np is set to True\n",
    "\n",
    "    def __repr__(self):\n",
    "        return f\"Population(N={self.N}, f={self.f})\"\n",
    "\n",
    "    def step(self, ngens=1):\n",
    "        for i in range(ngens):\n",
    "            if self.with_np: #if with_np is set to True\n",
    "                self.pop = np.random.choice(self.pop, size=self.N)\n",
    "            else:\n",
    "                self.pop = random.choices(self.pop, k=self.N)\n",
    "\n",
    "    def isMonomorphic(self, ngens = 1):\n",
    "        self.step(ngens = ngens)\n",
    "        if sum(self.pop)/self.N == 1:\n",
    "            return print(\"True\")\n",
    "        elif sum(self.pop)/self.N == 0:\n",
    "            return print(\"True\")\n",
    "        elif 0 < sum(self.pop)/self.N < 1:\n",
    "            return print(\"False\")\n",
    "        else:\n",
    "            return print(\"Something funky happened\")"
   ]
  },
  {
   "cell_type": "code",
   "execution_count": 25,
   "id": "8d08d9a2-54bf-423f-8070-d25e4de4d5d7",
   "metadata": {},
   "outputs": [],
   "source": [
    "#non-np and np populations\n",
    "pop = Population(N = 100)\n",
    "pop_np = Population(N = 100, with_np = True)"
   ]
  },
  {
   "cell_type": "code",
   "execution_count": 28,
   "id": "a5c81598-7b4b-4a25-a88b-6bac465aa075",
   "metadata": {},
   "outputs": [
    {
     "name": "stdout",
     "output_type": "stream",
     "text": [
      "3.39 ms ± 31 μs per loop (mean ± std. dev. of 7 runs, 100 loops each)\n"
     ]
    }
   ],
   "source": [
    "\n",
    "%%timeit\n",
    "pop.step(ngens = 1000)"
   ]
  },
  {
   "cell_type": "code",
   "execution_count": 29,
   "id": "23afdaf2-9159-4c8d-907a-7120da159ba6",
   "metadata": {},
   "outputs": [
    {
     "name": "stdout",
     "output_type": "stream",
     "text": [
      "8.14 ms ± 2.46 ms per loop (mean ± std. dev. of 7 runs, 1 loop each)\n"
     ]
    }
   ],
   "source": [
    "\n",
    "%%timeit\n",
    "pop_np.step(ngens = 1000)"
   ]
  },
  {
   "cell_type": "markdown",
   "id": "5f316686-716c-4384-9e6d-e51a3ee94495",
   "metadata": {},
   "source": [
    "From these results, not using numpy is slightly faster. However, without numpy, 100 loops were run, and with it only 1 was run. On larger data sets, these results will likely reverse. If numpy doesn't need to run as many loops, this can save an immense amount of time when rows of data are in the hundreds of thousands or millions."
   ]
  }
 ],
 "metadata": {
  "kernelspec": {
   "display_name": "Python 3 (ipykernel)",
   "language": "python",
   "name": "python3"
  },
  "language_info": {
   "codemirror_mode": {
    "name": "ipython",
    "version": 3
   },
   "file_extension": ".py",
   "mimetype": "text/x-python",
   "name": "python",
   "nbconvert_exporter": "python",
   "pygments_lexer": "ipython3",
   "version": "3.12.2"
  }
 },
 "nbformat": 4,
 "nbformat_minor": 5
}
