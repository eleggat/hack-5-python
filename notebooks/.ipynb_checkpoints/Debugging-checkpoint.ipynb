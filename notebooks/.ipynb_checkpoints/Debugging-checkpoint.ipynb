{
 "cells": [
  {
   "cell_type": "markdown",
   "id": "573afff0-05be-47fb-96be-87224baae286",
   "metadata": {},
   "source": [
    "# Challenge 1"
   ]
  },
  {
   "cell_type": "code",
   "execution_count": 5,
   "id": "d226ebba-2871-4069-8ebc-66b9439143ae",
   "metadata": {},
   "outputs": [
    {
     "ename": "TypeError",
     "evalue": "'<' not supported between instances of 'int' and 'str'",
     "output_type": "error",
     "traceback": [
      "\u001b[0;31m---------------------------------------------------------------------------\u001b[0m",
      "\u001b[0;31mTypeError\u001b[0m                                 Traceback (most recent call last)",
      "Cell \u001b[0;32mIn[5], line 10\u001b[0m\n\u001b[1;32m      7\u001b[0m     \u001b[38;5;28;01mreturn\u001b[39;00m low\n\u001b[1;32m      9\u001b[0m my_list \u001b[38;5;241m=\u001b[39m [\u001b[38;5;241m5\u001b[39m, \u001b[38;5;241m2\u001b[39m, \u001b[38;5;241m12\u001b[39m, \u001b[38;5;241m7\u001b[39m, \u001b[38;5;241m3\u001b[39m, \u001b[38;5;241m8\u001b[39m]\n\u001b[0;32m---> 10\u001b[0m \u001b[43mget_smaller\u001b[49m\u001b[43m(\u001b[49m\u001b[43mmy_list\u001b[49m\u001b[38;5;241;43m=\u001b[39;49m\u001b[43mmy_list\u001b[49m\u001b[43m)\u001b[49m\n",
      "Cell \u001b[0;32mIn[5], line 5\u001b[0m, in \u001b[0;36mget_smaller\u001b[0;34m(my_list, max_value)\u001b[0m\n\u001b[1;32m      3\u001b[0m \u001b[38;5;28;01mfor\u001b[39;00m element \u001b[38;5;129;01min\u001b[39;00m my_list:\n\u001b[1;32m      4\u001b[0m     low \u001b[38;5;241m=\u001b[39m []\n\u001b[0;32m----> 5\u001b[0m     \u001b[38;5;28;01mif\u001b[39;00m \u001b[43melement\u001b[49m\u001b[43m \u001b[49m\u001b[38;5;241;43m<\u001b[39;49m\u001b[43m \u001b[49m\u001b[43mmax_value\u001b[49m:\n\u001b[1;32m      6\u001b[0m         low\u001b[38;5;241m.\u001b[39mappend(element)\n\u001b[1;32m      7\u001b[0m \u001b[38;5;28;01mreturn\u001b[39;00m low\n",
      "\u001b[0;31mTypeError\u001b[0m: '<' not supported between instances of 'int' and 'str'"
     ]
    }
   ],
   "source": [
    "def get_smaller(my_list, max_value='5'):\n",
    "    \"\"\"Return a list of all values smaller than max_value\"\"\"\n",
    "    for element in my_list:\n",
    "        low = []\n",
    "        if element < max_value:\n",
    "            low.append(element)\n",
    "    return low\n",
    "\n",
    "my_list = [5, 2, 12, 7, 3, 8]\n",
    "get_smaller(my_list=my_list)"
   ]
  },
  {
   "cell_type": "markdown",
   "id": "2bd2c993-48bf-47b3-b989-7c0506c293fb",
   "metadata": {},
   "source": [
    "Fixed:"
   ]
  },
  {
   "cell_type": "code",
   "execution_count": 9,
   "id": "c62ffb48-a609-497d-86e6-9e39bb137cd5",
   "metadata": {},
   "outputs": [
    {
     "name": "stdout",
     "output_type": "stream",
     "text": [
      "[2, 3]\n"
     ]
    }
   ],
   "source": [
    "def get_smaller(my_list, max_value=5):\n",
    "    \"\"\"Return a list of all values smaller than max_value\"\"\"\n",
    "    low = []\n",
    "    for element in my_list:\n",
    "        if element < max_value:\n",
    "            low.append(element)\n",
    "    return print(low)\n",
    "\n",
    "my_list = [5, 2, 12, 7, 3, 8]\n",
    "get_smaller(my_list=my_list)"
   ]
  },
  {
   "cell_type": "markdown",
   "id": "9b410f00-db26-461a-b24c-e810926cdb93",
   "metadata": {},
   "source": [
    "# Challenge 2"
   ]
  },
  {
   "cell_type": "code",
   "execution_count": 12,
   "id": "821f677d-232c-4ed6-8812-c0ab6f9edac7",
   "metadata": {},
   "outputs": [
    {
     "ename": "SyntaxError",
     "evalue": "cannot assign to expression here. Maybe you meant '==' instead of '='? (3696698957.py, line 13)",
     "output_type": "error",
     "traceback": [
      "\u001b[0;36m  Cell \u001b[0;32mIn[12], line 13\u001b[0;36m\u001b[0m\n\u001b[0;31m    elif i%num1=0:\u001b[0m\n\u001b[0m         ^\u001b[0m\n\u001b[0;31mSyntaxError\u001b[0m\u001b[0;31m:\u001b[0m cannot assign to expression here. Maybe you meant '==' instead of '='?\n"
     ]
    }
   ],
   "source": [
    "def fizzbuzz(max_num):\n",
    "    \"This method implements FizzBuzz\"\n",
    "    three_mul = 'fizz'\n",
    "    five_mul = 'buzz'\n",
    "    num1 = 3\n",
    "    num2 = 5 \n",
    "\n",
    "    # Google for 'range in python' to see what it does\n",
    "    for i in range(1,max_num):\n",
    "        # % or modulo division gives you the remainder \n",
    "        if i%num1==0 and i%num2==0:\n",
    "            print(i,three_mul+five_mul)\n",
    "        elif i%num1=0:\n",
    "            print(i,three_mul)\n",
    "        elif i%num2==0:\n",
    "            print(i,five_mul)\n",
    "fizzbuzz()"
   ]
  },
  {
   "cell_type": "markdown",
   "id": "952e61a8-0ad4-4847-b848-06a96505c476",
   "metadata": {},
   "source": [
    "Fixed:"
   ]
  },
  {
   "cell_type": "code",
   "execution_count": 14,
   "id": "8045d1e7-23e7-45eb-a873-f62401b3cbda",
   "metadata": {},
   "outputs": [
    {
     "name": "stdout",
     "output_type": "stream",
     "text": [
      "3 fizz\n",
      "5 buzz\n",
      "6 fizz\n",
      "9 fizz\n",
      "10 buzz\n",
      "12 fizz\n",
      "15 fizzbuzz\n",
      "18 fizz\n",
      "20 buzz\n",
      "21 fizz\n",
      "24 fizz\n",
      "25 buzz\n",
      "27 fizz\n",
      "30 fizzbuzz\n"
     ]
    }
   ],
   "source": [
    "def fizzbuzz(max_num):\n",
    "    \"This method implements FizzBuzz\"\n",
    "    three_mul = 'fizz'\n",
    "    five_mul = 'buzz'\n",
    "    num1 = 3\n",
    "    num2 = 5 \n",
    "\n",
    "    # Google for 'range in python' to see what it does\n",
    "    for i in range(1,max_num):\n",
    "        # % or modulo division gives you the remainder \n",
    "        if i%num1==0 and i%num2==0:\n",
    "            print(i,three_mul+five_mul)\n",
    "        elif i%num1==0:\n",
    "            print(i,three_mul)\n",
    "        elif i%num2==0:\n",
    "            print(i,five_mul)\n",
    "fizzbuzz(max_num = 31)"
   ]
  },
  {
   "cell_type": "markdown",
   "id": "d7e624ad-cf91-4eb2-bee5-12e0e03df045",
   "metadata": {},
   "source": [
    "# Challenge 3"
   ]
  },
  {
   "cell_type": "code",
   "execution_count": 15,
   "id": "69d00654-4bd0-4adb-9f05-3238fb92f30b",
   "metadata": {},
   "outputs": [
    {
     "data": {
      "text/plain": [
       "0"
      ]
     },
     "execution_count": 15,
     "metadata": {},
     "output_type": "execute_result"
    }
   ],
   "source": [
    "def sum_positive(numbers):\n",
    "    total = 0\n",
    "    for num in numbers:\n",
    "        if num > 0:\n",
    "            total + num\n",
    "    return total\n",
    "\n",
    "sum_positive([1,2,3,4,5,6,7])"
   ]
  },
  {
   "cell_type": "markdown",
   "id": "f55c8bba-5cd0-4f35-8b4b-37df936d6ced",
   "metadata": {},
   "source": [
    "Fixed:"
   ]
  },
  {
   "cell_type": "code",
   "execution_count": 16,
   "id": "e575d273-a93b-451d-aac7-fb672624c050",
   "metadata": {},
   "outputs": [
    {
     "data": {
      "text/plain": [
       "28"
      ]
     },
     "execution_count": 16,
     "metadata": {},
     "output_type": "execute_result"
    }
   ],
   "source": [
    "def sum_positive(numbers):\n",
    "    total = 0\n",
    "    for num in numbers:\n",
    "        if num > 0:\n",
    "            total = total + num\n",
    "    return total\n",
    "\n",
    "sum_positive([1,2,3,4,5,6,7])"
   ]
  },
  {
   "cell_type": "markdown",
   "id": "6c8ca0fe-2db5-4138-9648-30397ad56557",
   "metadata": {},
   "source": [
    "# 3/6 challenges"
   ]
  },
  {
   "cell_type": "markdown",
   "id": "adfeee11-eedb-4b55-b250-e64aca5541e1",
   "metadata": {},
   "source": [
    "## Challenge 1\n",
    "Original, then fixed:"
   ]
  },
  {
   "cell_type": "code",
   "execution_count": 1,
   "id": "1befe3f5-465a-4792-85dd-2a5cc9d83111",
   "metadata": {},
   "outputs": [
    {
     "ename": "TypeError",
     "evalue": "unsupported operand type(s) for +: 'NoneType' and 'int'",
     "output_type": "error",
     "traceback": [
      "\u001b[31m---------------------------------------------------------------------------\u001b[39m",
      "\u001b[31mTypeError\u001b[39m                                 Traceback (most recent call last)",
      "\u001b[36mCell\u001b[39m\u001b[36m \u001b[39m\u001b[32mIn[1]\u001b[39m\u001b[32m, line 6\u001b[39m\n\u001b[32m      3\u001b[39m         \u001b[38;5;28;01mreturn\u001b[39;00m a + b\n\u001b[32m      5\u001b[39m result = add(-\u001b[32m1\u001b[39m, \u001b[32m5\u001b[39m)\n\u001b[32m----> \u001b[39m\u001b[32m6\u001b[39m \u001b[38;5;28mprint\u001b[39m(\u001b[43mresult\u001b[49m\u001b[43m \u001b[49m\u001b[43m+\u001b[49m\u001b[43m \u001b[49m\u001b[32;43m2\u001b[39;49m)\n",
      "\u001b[31mTypeError\u001b[39m: unsupported operand type(s) for +: 'NoneType' and 'int'"
     ]
    }
   ],
   "source": [
    "def add(a, b):\n",
    "    if a > 0 and b > 0:\n",
    "        return a + b\n",
    "\n",
    "result = add(-1, 5)\n",
    "print(result + 2)"
   ]
  },
  {
   "cell_type": "code",
   "execution_count": 19,
   "id": "8fcef33b-dcd5-4b8e-ad49-34ead88e25ec",
   "metadata": {},
   "outputs": [
    {
     "ename": "Exception",
     "evalue": "Both values must be positive",
     "output_type": "error",
     "traceback": [
      "\u001b[31m---------------------------------------------------------------------------\u001b[39m",
      "\u001b[31mException\u001b[39m                                 Traceback (most recent call last)",
      "\u001b[36mCell\u001b[39m\u001b[36m \u001b[39m\u001b[32mIn[19]\u001b[39m\u001b[32m, line 10\u001b[39m\n\u001b[32m      7\u001b[39m     \u001b[38;5;28;01melif\u001b[39;00m \u001b[38;5;28mtype\u001b[39m(a) != \u001b[38;5;28mint\u001b[39m \u001b[38;5;129;01mor\u001b[39;00m \u001b[38;5;28mtype\u001b[39m(b) != \u001b[38;5;28mint\u001b[39m:\n\u001b[32m      8\u001b[39m         \u001b[38;5;28;01mraise\u001b[39;00m \u001b[38;5;167;01mException\u001b[39;00m(\u001b[33m\"\u001b[39m\u001b[33mBoth values must be integers\u001b[39m\u001b[33m\"\u001b[39m)\n\u001b[32m---> \u001b[39m\u001b[32m10\u001b[39m result = \u001b[43madd\u001b[49m\u001b[43m(\u001b[49m\u001b[43m-\u001b[49m\u001b[32;43m1\u001b[39;49m\u001b[43m,\u001b[49m\u001b[43m \u001b[49m\u001b[32;43m5\u001b[39;49m\u001b[43m)\u001b[49m\n\u001b[32m     11\u001b[39m \u001b[38;5;28mprint\u001b[39m(result)\n",
      "\u001b[36mCell\u001b[39m\u001b[36m \u001b[39m\u001b[32mIn[19]\u001b[39m\u001b[32m, line 6\u001b[39m, in \u001b[36madd\u001b[39m\u001b[34m(a, b)\u001b[39m\n\u001b[32m      4\u001b[39m         \u001b[38;5;28;01mreturn\u001b[39;00m a + b\n\u001b[32m      5\u001b[39m     \u001b[38;5;28;01melse\u001b[39;00m:\n\u001b[32m----> \u001b[39m\u001b[32m6\u001b[39m         \u001b[38;5;28;01mraise\u001b[39;00m \u001b[38;5;167;01mException\u001b[39;00m(\u001b[33m\"\u001b[39m\u001b[33mBoth values must be positive\u001b[39m\u001b[33m\"\u001b[39m)\n\u001b[32m      7\u001b[39m \u001b[38;5;28;01melif\u001b[39;00m \u001b[38;5;28mtype\u001b[39m(a) != \u001b[38;5;28mint\u001b[39m \u001b[38;5;129;01mor\u001b[39;00m \u001b[38;5;28mtype\u001b[39m(b) != \u001b[38;5;28mint\u001b[39m:\n\u001b[32m      8\u001b[39m     \u001b[38;5;28;01mraise\u001b[39;00m \u001b[38;5;167;01mException\u001b[39;00m(\u001b[33m\"\u001b[39m\u001b[33mBoth values must be integers\u001b[39m\u001b[33m\"\u001b[39m)\n",
      "\u001b[31mException\u001b[39m: Both values must be positive"
     ]
    }
   ],
   "source": [
    "def add(a, b):\n",
    "    if type(a) == int and type(b) == int:\n",
    "        if a > 0 and b > 0:\n",
    "            return a + b\n",
    "        else:\n",
    "            raise Exception(\"Both values must be positive\")\n",
    "    elif type(a) != int or type(b) != int:\n",
    "        raise Exception(\"Both values must be integers\")\n",
    "\n",
    "result = add(-1, 5)\n",
    "print(result)"
   ]
  },
  {
   "cell_type": "markdown",
   "id": "392d54b1-96de-4fdd-b67d-8efcea6addcc",
   "metadata": {},
   "source": [
    "## Challenge 2"
   ]
  },
  {
   "cell_type": "code",
   "execution_count": 20,
   "id": "ecacfbc2-b21c-4f9c-b4cf-e2be24afa2aa",
   "metadata": {},
   "outputs": [
    {
     "ename": "AttributeError",
     "evalue": "'Person' object has no attribute 'age'",
     "output_type": "error",
     "traceback": [
      "\u001b[31m---------------------------------------------------------------------------\u001b[39m",
      "\u001b[31mAttributeError\u001b[39m                            Traceback (most recent call last)",
      "\u001b[36mCell\u001b[39m\u001b[36m \u001b[39m\u001b[32mIn[20]\u001b[39m\u001b[32m, line 11\u001b[39m\n\u001b[32m      8\u001b[39m         \u001b[38;5;28;01mreturn\u001b[39;00m \u001b[33mf\u001b[39m\u001b[33m\"\u001b[39m\u001b[38;5;132;01m{\u001b[39;00m\u001b[38;5;28mself\u001b[39m.name\u001b[38;5;132;01m}\u001b[39;00m\u001b[33m is \u001b[39m\u001b[38;5;132;01m{\u001b[39;00m\u001b[38;5;28mself\u001b[39m.age\u001b[38;5;132;01m}\u001b[39;00m\u001b[33m years old\u001b[39m\u001b[33m\"\u001b[39m\n\u001b[32m     10\u001b[39m p = Person(\u001b[33m\"\u001b[39m\u001b[33mPhylo\u001b[39m\u001b[33m\"\u001b[39m)\n\u001b[32m---> \u001b[39m\u001b[32m11\u001b[39m \u001b[38;5;28;43mprint\u001b[39;49m\u001b[43m(\u001b[49m\u001b[43mp\u001b[49m\u001b[43m)\u001b[49m\n",
      "\u001b[36mCell\u001b[39m\u001b[36m \u001b[39m\u001b[32mIn[20]\u001b[39m\u001b[32m, line 8\u001b[39m, in \u001b[36mPerson.__repr__\u001b[39m\u001b[34m(self)\u001b[39m\n\u001b[32m      6\u001b[39m \u001b[38;5;28;01mdef\u001b[39;00m \u001b[34m__repr__\u001b[39m(\u001b[38;5;28mself\u001b[39m):\n\u001b[32m      7\u001b[39m \u001b[38;5;250m    \u001b[39m\u001b[33;03m'''Describe the string representation of a Person'''\u001b[39;00m\n\u001b[32m----> \u001b[39m\u001b[32m8\u001b[39m     \u001b[38;5;28;01mreturn\u001b[39;00m \u001b[33mf\u001b[39m\u001b[33m\"\u001b[39m\u001b[38;5;132;01m{\u001b[39;00m\u001b[38;5;28mself\u001b[39m.name\u001b[38;5;132;01m}\u001b[39;00m\u001b[33m is \u001b[39m\u001b[38;5;132;01m{\u001b[39;00m\u001b[38;5;28;43mself\u001b[39;49m\u001b[43m.\u001b[49m\u001b[43mage\u001b[49m\u001b[38;5;132;01m}\u001b[39;00m\u001b[33m years old\u001b[39m\u001b[33m\"\u001b[39m\n",
      "\u001b[31mAttributeError\u001b[39m: 'Person' object has no attribute 'age'"
     ]
    }
   ],
   "source": [
    "class Person:\n",
    "    def __init__(self, name):\n",
    "        '''Initialize the Person object'''\n",
    "        self.name = name\n",
    "\n",
    "    def __repr__(self):\n",
    "        '''Describe the string representation of a Person'''\n",
    "        return f\"{self.name} is {self.age} years old\"\n",
    "\n",
    "p = Person(\"Phylo\")\n",
    "print(p)"
   ]
  },
  {
   "cell_type": "code",
   "execution_count": 21,
   "id": "6b73c222-b1be-4810-b9d9-bffe623408f6",
   "metadata": {},
   "outputs": [
    {
     "name": "stdout",
     "output_type": "stream",
     "text": [
      "Phylo is 12 years old\n"
     ]
    }
   ],
   "source": [
    "class Person:\n",
    "    def __init__(self, name, age):\n",
    "        '''Initialize the Person object'''\n",
    "        self.name = name\n",
    "        self.age = age\n",
    "\n",
    "    def __repr__(self):\n",
    "        '''Describe the string representation of a Person'''\n",
    "        return f\"{self.name} is {self.age} years old\"\n",
    "\n",
    "p = Person(\"Phylo\", 12)\n",
    "print(p)"
   ]
  },
  {
   "cell_type": "markdown",
   "id": "21dfa779-7e3f-4b81-81af-33b6196a5aca",
   "metadata": {},
   "source": [
    "## Challenge 3"
   ]
  },
  {
   "cell_type": "code",
   "execution_count": 27,
   "id": "5946058a-76cc-4e58-84fb-2698deb29ea6",
   "metadata": {},
   "outputs": [
    {
     "ename": "TypeError",
     "evalue": "Dog.bark() takes 0 positional arguments but 1 was given",
     "output_type": "error",
     "traceback": [
      "\u001b[31m---------------------------------------------------------------------------\u001b[39m",
      "\u001b[31mTypeError\u001b[39m                                 Traceback (most recent call last)",
      "\u001b[36mCell\u001b[39m\u001b[36m \u001b[39m\u001b[32mIn[27]\u001b[39m\u001b[32m, line 8\u001b[39m\n\u001b[32m      5\u001b[39m         \u001b[38;5;28mprint\u001b[39m(\u001b[33m\"\u001b[39m\u001b[33mWoof!\u001b[39m\u001b[33m\"\u001b[39m)\n\u001b[32m      7\u001b[39m d = Dog(\u001b[33m\"\u001b[39m\u001b[33mPhylo\u001b[39m\u001b[33m\"\u001b[39m)\n\u001b[32m----> \u001b[39m\u001b[32m8\u001b[39m \u001b[43md\u001b[49m\u001b[43m.\u001b[49m\u001b[43mbark\u001b[49m\u001b[43m(\u001b[49m\u001b[43m)\u001b[49m\n",
      "\u001b[31mTypeError\u001b[39m: Dog.bark() takes 0 positional arguments but 1 was given"
     ]
    }
   ],
   "source": [
    "class Dog:\n",
    "    def __init__(self, name):\n",
    "        self.name = name\n",
    "    def bark():\n",
    "        print(\"Woof!\")\n",
    "\n",
    "d = Dog(\"Phylo\")\n",
    "d.bark()"
   ]
  },
  {
   "cell_type": "code",
   "execution_count": 32,
   "id": "223d9781-8748-4b9a-990e-7f64dfc5ed4d",
   "metadata": {},
   "outputs": [
    {
     "name": "stdout",
     "output_type": "stream",
     "text": [
      "Woof!\n"
     ]
    }
   ],
   "source": [
    "class Dog:\n",
    "    def __init__(self, name):\n",
    "        self.name = name\n",
    "    def bark(name):\n",
    "        print(\"Woof!\")\n",
    "\n",
    "d = Dog(\"Phylo\")\n",
    "d.bark()"
   ]
  },
  {
   "cell_type": "markdown",
   "id": "886bf3c1-a91d-4f10-8ea0-e0a390240c12",
   "metadata": {},
   "source": [
    "# 3/11 Challenges\n",
    "## Challenge 1"
   ]
  },
  {
   "cell_type": "code",
   "execution_count": 2,
   "id": "bba0f73d-9184-40c1-aedc-606fa0cc5374",
   "metadata": {},
   "outputs": [
    {
     "ename": "NameError",
     "evalue": "name 'pd' is not defined",
     "output_type": "error",
     "traceback": [
      "\u001b[31m---------------------------------------------------------------------------\u001b[39m",
      "\u001b[31mNameError\u001b[39m                                 Traceback (most recent call last)",
      "\u001b[36mCell\u001b[39m\u001b[36m \u001b[39m\u001b[32mIn[2]\u001b[39m\u001b[32m, line 8\u001b[39m\n\u001b[32m      5\u001b[39m     outfile.write(requests.get(url).text)\n\u001b[32m      7\u001b[39m data = \u001b[33m\"\u001b[39m\u001b[33mpenguin_data.csv\u001b[39m\u001b[33m\"\u001b[39m\n\u001b[32m----> \u001b[39m\u001b[32m8\u001b[39m df = \u001b[43mpd\u001b[49m.read_csv(data)\n",
      "\u001b[31mNameError\u001b[39m: name 'pd' is not defined"
     ]
    }
   ],
   "source": [
    "import requests\n",
    "url = \"https://raw.githubusercontent.com/eaton-lab/hack-the-planet/refs/heads/master/docs/data/penguin_data.csv\"\n",
    "\n",
    "with open(\"penguin_data.csv\", 'w') as outfile:\n",
    "    outfile.write(requests.get(url).text)\n",
    "\n",
    "data = penguin_data.csv\n",
    "df = pd.read_csv(data)"
   ]
  },
  {
   "cell_type": "code",
   "execution_count": 4,
   "id": "81785ae2-ebd2-4bd3-86a7-a3df7baf015e",
   "metadata": {},
   "outputs": [
    {
     "data": {
      "text/html": [
       "<div>\n",
       "<style scoped>\n",
       "    .dataframe tbody tr th:only-of-type {\n",
       "        vertical-align: middle;\n",
       "    }\n",
       "\n",
       "    .dataframe tbody tr th {\n",
       "        vertical-align: top;\n",
       "    }\n",
       "\n",
       "    .dataframe thead th {\n",
       "        text-align: right;\n",
       "    }\n",
       "</style>\n",
       "<table border=\"1\" class=\"dataframe\">\n",
       "  <thead>\n",
       "    <tr style=\"text-align: right;\">\n",
       "      <th></th>\n",
       "      <th>culmen.length</th>\n",
       "      <th>culmen.depth</th>\n",
       "      <th>flipper.length</th>\n",
       "      <th>body.mass</th>\n",
       "      <th>species</th>\n",
       "    </tr>\n",
       "  </thead>\n",
       "  <tbody>\n",
       "    <tr>\n",
       "      <th>0</th>\n",
       "      <td>39.1</td>\n",
       "      <td>18.7</td>\n",
       "      <td>181</td>\n",
       "      <td>3750</td>\n",
       "      <td>Adelie</td>\n",
       "    </tr>\n",
       "    <tr>\n",
       "      <th>1</th>\n",
       "      <td>39.5</td>\n",
       "      <td>17.4</td>\n",
       "      <td>186</td>\n",
       "      <td>3800</td>\n",
       "      <td>Adelie</td>\n",
       "    </tr>\n",
       "    <tr>\n",
       "      <th>2</th>\n",
       "      <td>40.3</td>\n",
       "      <td>18.0</td>\n",
       "      <td>195</td>\n",
       "      <td>3250</td>\n",
       "      <td>Adelie</td>\n",
       "    </tr>\n",
       "    <tr>\n",
       "      <th>3</th>\n",
       "      <td>36.7</td>\n",
       "      <td>19.3</td>\n",
       "      <td>193</td>\n",
       "      <td>3450</td>\n",
       "      <td>Adelie</td>\n",
       "    </tr>\n",
       "    <tr>\n",
       "      <th>4</th>\n",
       "      <td>39.3</td>\n",
       "      <td>20.6</td>\n",
       "      <td>190</td>\n",
       "      <td>3650</td>\n",
       "      <td>Adelie</td>\n",
       "    </tr>\n",
       "  </tbody>\n",
       "</table>\n",
       "</div>"
      ],
      "text/plain": [
       "   culmen.length  culmen.depth  flipper.length  body.mass species\n",
       "0           39.1          18.7             181       3750  Adelie\n",
       "1           39.5          17.4             186       3800  Adelie\n",
       "2           40.3          18.0             195       3250  Adelie\n",
       "3           36.7          19.3             193       3450  Adelie\n",
       "4           39.3          20.6             190       3650  Adelie"
      ]
     },
     "execution_count": 4,
     "metadata": {},
     "output_type": "execute_result"
    }
   ],
   "source": [
    "import requests\n",
    "import pandas as pd\n",
    "url = \"https://raw.githubusercontent.com/eaton-lab/hack-the-planet/refs/heads/master/docs/data/penguin_data.csv\"\n",
    "\n",
    "with open(\"penguin_data.csv\", 'w') as outfile:\n",
    "    outfile.write(requests.get(url).text)\n",
    "\n",
    "data = \"penguin_data.csv\"\n",
    "df = pd.read_csv(data)\n",
    "df.head()"
   ]
  },
  {
   "cell_type": "markdown",
   "id": "4b008214-4e53-4de1-a92a-c98070a4e101",
   "metadata": {},
   "source": [
    "## Challenge 2"
   ]
  },
  {
   "cell_type": "code",
   "execution_count": 5,
   "id": "7a14f6fc-2f1d-4320-881f-17b2866b34f9",
   "metadata": {},
   "outputs": [
    {
     "name": "stdout",
     "output_type": "stream",
     "text": [
      "Both are less\n"
     ]
    }
   ],
   "source": [
    "def either_less(a, b, c=4):\n",
    "    if a or b < c:\n",
    "        print(\"Both are less\")\n",
    "    else:\n",
    "        print(\"Both aren't less\")\n",
    "\n",
    "either_less(3, 5)"
   ]
  },
  {
   "cell_type": "code",
   "execution_count": 19,
   "id": "4f5672f9-e019-4dac-91e2-13ab9bc03850",
   "metadata": {},
   "outputs": [
    {
     "name": "stdout",
     "output_type": "stream",
     "text": [
      "Both aren't less\n"
     ]
    }
   ],
   "source": [
    "def either_less(a, b, c=4):\n",
    "    if a < c and b < c:\n",
    "        print(\"Both are less\")\n",
    "    else:\n",
    "        print(\"Both aren't less\")\n",
    "\n",
    "either_less(3, 5)"
   ]
  },
  {
   "cell_type": "markdown",
   "id": "7b3aec66-8ccf-481c-9a41-d2dae46f242c",
   "metadata": {},
   "source": [
    "## Challenge 3"
   ]
  },
  {
   "cell_type": "code",
   "execution_count": null,
   "id": "7f453da1-52af-40a8-bc41-b8190962be74",
   "metadata": {},
   "outputs": [],
   "source": [
    "if true\n",
    "print helloworld"
   ]
  },
  {
   "cell_type": "code",
   "execution_count": 13,
   "id": "357523e9-f354-430e-aff3-5a7913bc4900",
   "metadata": {},
   "outputs": [
    {
     "name": "stdout",
     "output_type": "stream",
     "text": [
      "helloworld\n"
     ]
    }
   ],
   "source": [
    "if True:\n",
    "    print(\"helloworld\")"
   ]
  }
 ],
 "metadata": {
  "kernelspec": {
   "display_name": "Python 3 (ipykernel)",
   "language": "python",
   "name": "python3"
  },
  "language_info": {
   "codemirror_mode": {
    "name": "ipython",
    "version": 3
   },
   "file_extension": ".py",
   "mimetype": "text/x-python",
   "name": "python",
   "nbconvert_exporter": "python",
   "pygments_lexer": "ipython3",
   "version": "3.12.9"
  }
 },
 "nbformat": 4,
 "nbformat_minor": 5
}
