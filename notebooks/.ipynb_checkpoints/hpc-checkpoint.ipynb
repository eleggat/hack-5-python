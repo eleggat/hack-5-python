{
 "cells": [
  {
   "cell_type": "markdown",
   "id": "8dd1e226-d90e-43df-92be-f3ce98b32f66",
   "metadata": {},
   "source": [
    "# HPC"
   ]
  },
  {
   "cell_type": "code",
   "execution_count": 1,
   "id": "82e41179-3ace-4644-b344-41423fd15df4",
   "metadata": {},
   "outputs": [
    {
     "data": {
      "text/plain": [
       "14"
      ]
     },
     "execution_count": 1,
     "metadata": {},
     "output_type": "execute_result"
    }
   ],
   "source": [
    "import os\n",
    "\n",
    "os.cpu_count()"
   ]
  },
  {
   "cell_type": "code",
   "execution_count": 2,
   "id": "3e65cfbb-1a25-4b91-8aa1-37b47f7b37f3",
   "metadata": {},
   "outputs": [],
   "source": [
    "import numpy as np\n",
    "import sys\n",
    "import time\n",
    "from concurrent.futures import ProcessPoolExecutor, as_completed"
   ]
  },
  {
   "cell_type": "code",
   "execution_count": null,
   "id": "ac9bc924-4a5c-4658-9fb1-1c9e2a3e4444",
   "metadata": {},
   "outputs": [],
   "source": [
    "\n",
    "## Use sys.argv to pass in an integer value for the number\n",
    "## of consecutive integers to operate on\n",
    "length = int(sys.argv[1])\n",
    "\n",
    "def task(n):\n",
    "    time.sleep(1)\n",
    "    return n * n\n",
    "\n",
    "if __name__ == '__main__':\n",
    "\n",
    "    numbers = range(0, length)\n",
    "    ## create a pool of workers\n",
    "    ## max_workers determines the number of parallel process to run\n",
    "    with ProcessPoolExecutor(max_workers=4) as executor:\n",
    "        ## Submit all the jobs to the executor\n",
    "        results = [executor.submit(task, num) for num in numbers]\n",
    "\n",
    "        ## As jobs finish, pull the results and print them\n",
    "        for future in as_completed(results):\n",
    "                print(f\"Result: {future.result()}\")"
   ]
  }
 ],
 "metadata": {
  "kernelspec": {
   "display_name": "Python 3 (ipykernel)",
   "language": "python",
   "name": "python3"
  },
  "language_info": {
   "codemirror_mode": {
    "name": "ipython",
    "version": 3
   },
   "file_extension": ".py",
   "mimetype": "text/x-python",
   "name": "python",
   "nbconvert_exporter": "python",
   "pygments_lexer": "ipython3",
   "version": "3.12.2"
  }
 },
 "nbformat": 4,
 "nbformat_minor": 5
}
