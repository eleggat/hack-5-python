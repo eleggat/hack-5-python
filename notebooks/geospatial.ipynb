{
 "cells": [
  {
   "cell_type": "markdown",
   "id": "c266b099-a68a-44f4-81f1-52adeff1c60c",
   "metadata": {},
   "source": [
    "# Geopatial data"
   ]
  },
  {
   "cell_type": "code",
   "execution_count": null,
   "id": "0f2a4075-d9ac-45c0-a91a-27250e4e8fd6",
   "metadata": {},
   "outputs": [],
   "source": []
  }
 ],
 "metadata": {
  "kernelspec": {
   "display_name": "Python 3 (ipykernel)",
   "language": "python",
   "name": "python3"
  },
  "language_info": {
   "codemirror_mode": {
    "name": "ipython",
    "version": 3
   },
   "file_extension": ".py",
   "mimetype": "text/x-python",
   "name": "python",
   "nbconvert_exporter": "python",
   "pygments_lexer": "ipython3",
   "version": "3.12.2"
  }
 },
 "nbformat": 4,
 "nbformat_minor": 5
}
